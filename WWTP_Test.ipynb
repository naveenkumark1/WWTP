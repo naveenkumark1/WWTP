{
  "nbformat": 4,
  "nbformat_minor": 0,
  "metadata": {
    "colab": {
      "name": "WWTP_Test.ipynb",
      "provenance": [],
      "collapsed_sections": []
    },
    "kernelspec": {
      "name": "python3",
      "display_name": "Python 3"
    },
    "language_info": {
      "name": "python"
    }
  },
  "cells": [
    {
      "cell_type": "code",
      "metadata": {
        "colab": {
          "base_uri": "https://localhost:8080/"
        },
        "id": "n9w6CHoanbz2",
        "outputId": "81e51247-7535-4305-e81f-9aee03cdb4ba"
      },
      "source": [
        "print(\"OM\")"
      ],
      "execution_count": 2,
      "outputs": [
        {
          "output_type": "stream",
          "text": [
            "OM\n"
          ],
          "name": "stdout"
        }
      ]
    }
  ]
}